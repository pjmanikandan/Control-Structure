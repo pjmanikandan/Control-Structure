{
 "cells": [
  {
   "cell_type": "markdown",
   "id": "db0bc634",
   "metadata": {},
   "source": [
    "# CONTROL STRUCTURE"
   ]
  },
  {
   "cell_type": "code",
   "execution_count": 4,
   "id": "4ea64f14",
   "metadata": {},
   "outputs": [
    {
     "name": "stdout",
     "output_type": "stream",
     "text": [
      "enter your Age:12\n"
     ]
    }
   ],
   "source": [
    "Age=int(input(\"enter your Age:\"))\n",
    "if(Age>=18):\n",
    "    print(\"Adult\")\n",
    "    \n",
    "    \n",
    "    "
   ]
  },
  {
   "cell_type": "code",
   "execution_count": 5,
   "id": "72e1afd7",
   "metadata": {},
   "outputs": [],
   "source": [
    "\n",
    "if(Age>=18):\n",
    "    print(\"Adult\")"
   ]
  },
  {
   "cell_type": "markdown",
   "id": "ae4cfebd",
   "metadata": {},
   "source": [
    "# if else"
   ]
  },
  {
   "cell_type": "code",
   "execution_count": 18,
   "id": "269c8c97",
   "metadata": {},
   "outputs": [
    {
     "name": "stdout",
     "output_type": "stream",
     "text": [
      "enter your Age:100\n",
      "adult\n"
     ]
    }
   ],
   "source": [
    "Age=int(input(\"enter your Age:\"))\n",
    "if(Age<=18):\n",
    "    print(\"Children\")\n",
    "else:\n",
    "    print(\"adult\")"
   ]
  },
  {
   "cell_type": "code",
   "execution_count": 23,
   "id": "a8c7869e",
   "metadata": {},
   "outputs": [
    {
     "name": "stdout",
     "output_type": "stream",
     "text": [
      "Enter your Age:59\n"
     ]
    }
   ],
   "source": [
    "Age=int(input(\"Enter your Age:\"))"
   ]
  },
  {
   "cell_type": "code",
   "execution_count": 30,
   "id": "aa918fea",
   "metadata": {},
   "outputs": [
    {
     "name": "stdout",
     "output_type": "stream",
     "text": [
      "Enter your Age:54\n",
      "Citizen\n"
     ]
    }
   ],
   "source": [
    "Age=int(input(\"Enter your Age:\"))\n",
    "if(Age<18):\n",
    "    print(\"Children\")\n",
    "elif(Age<40):\n",
    "    print('Adult')\n",
    "elif(Age<59):\n",
    "    print(\"Citizen\")\n",
    "else:\n",
    "    print(\"senior Citizen\")\n"
   ]
  },
  {
   "cell_type": "code",
   "execution_count": null,
   "id": "8ed474bc",
   "metadata": {},
   "outputs": [],
   "source": []
  }
 ],
 "metadata": {
  "kernelspec": {
   "display_name": "Python 3 (ipykernel)",
   "language": "python",
   "name": "python3"
  },
  "language_info": {
   "codemirror_mode": {
    "name": "ipython",
    "version": 3
   },
   "file_extension": ".py",
   "mimetype": "text/x-python",
   "name": "python",
   "nbconvert_exporter": "python",
   "pygments_lexer": "ipython3",
   "version": "3.9.12"
  }
 },
 "nbformat": 4,
 "nbformat_minor": 5
}
