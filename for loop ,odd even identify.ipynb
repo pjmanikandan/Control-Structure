{
 "cells": [
  {
   "cell_type": "code",
   "execution_count": 15,
   "id": "2a2712f1",
   "metadata": {},
   "outputs": [
    {
     "name": "stdout",
     "output_type": "stream",
     "text": [
      "children\n",
      "not have any information\n",
      "parent\n",
      "children\n",
      "children\n"
     ]
    }
   ],
   "source": [
    "l1list={12,11,0,18,80}\n",
    "for age in l1list:\n",
    "                        if(age<18):\n",
    "                            print(\"children\")\n",
    "                        elif(age<41):\n",
    "                             print(\"parent\")\n",
    "                        elif(age<70):\n",
    "                            print(\"grand father/grand mother\")\n",
    "                        else:\n",
    "                            print(\"not have any information\")\n"
   ]
  },
  {
   "cell_type": "raw",
   "id": "2495a2bc",
   "metadata": {},
   "source": [
    "customer given=list(range(15))\n",
    "print(customer given)\n"
   ]
  },
  {
   "cell_type": "code",
   "execution_count": 4,
   "id": "a6f6720f",
   "metadata": {},
   "outputs": [
    {
     "name": "stdout",
     "output_type": "stream",
     "text": [
      "given num is odd\n",
      "even number\n",
      "given num is odd\n",
      "even number\n",
      "given num is odd\n",
      "even number\n",
      "given num is odd\n",
      "even number\n",
      "given num is odd\n",
      "even number\n",
      "given num is odd\n",
      "even number\n",
      "given num is odd\n",
      "even number\n",
      "given num is odd\n",
      "even number\n",
      "given num is odd\n"
     ]
    }
   ],
   "source": [
    "l1sist=list(range(17))\n",
    "for l1sist in l1sist:\n",
    "    if(l1sist%2==0):\n",
    "        print(\"given num is odd\")\n",
    "    else:\n",
    "        print(\"even number\")\n"
   ]
  },
  {
   "cell_type": "code",
   "execution_count": 20,
   "id": "a8c8f5b5",
   "metadata": {},
   "outputs": [
    {
     "name": "stdout",
     "output_type": "stream",
     "text": [
      "[0, 1, 2, 3, 4, 5, 6, 7, 8, 9, 10, 11, 12, 13, 14]\n"
     ]
    }
   ],
   "source": [
    "customergiven=list(range(15))\n",
    "print(customergiven)\n",
    "num=customergiven"
   ]
  },
  {
   "cell_type": "code",
   "execution_count": 21,
   "id": "11ab2f71",
   "metadata": {},
   "outputs": [
    {
     "name": "stdout",
     "output_type": "stream",
     "text": [
      "[0, 1, 2, 3, 4, 5, 6, 7, 8, 9, 10, 11, 12, 13, 14]\n"
     ]
    }
   ],
   "source": [
    "print(num)"
   ]
  },
  {
   "cell_type": "code",
   "execution_count": 22,
   "id": "4fe5d160",
   "metadata": {},
   "outputs": [
    {
     "name": "stdout",
     "output_type": "stream",
     "text": [
      "<class 'list'>\n"
     ]
    }
   ],
   "source": [
    "print(type(num))"
   ]
  },
  {
   "cell_type": "code",
   "execution_count": 49,
   "id": "0dcdc682",
   "metadata": {},
   "outputs": [
    {
     "name": "stdout",
     "output_type": "stream",
     "text": [
      "0\n",
      "2\n",
      "4\n",
      "6\n",
      "8\n"
     ]
    },
    {
     "data": {
      "text/plain": [
       "int"
      ]
     },
     "execution_count": 49,
     "metadata": {},
     "output_type": "execute_result"
    }
   ],
   "source": [
    "for mani in range(0,10,2):\n",
    "    print(mani)\n",
    "type(mani)"
   ]
  },
  {
   "cell_type": "code",
   "execution_count": null,
   "id": "f83df3e0",
   "metadata": {},
   "outputs": [],
   "source": []
  }
 ],
 "metadata": {
  "kernelspec": {
   "display_name": "Python 3 (ipykernel)",
   "language": "python",
   "name": "python3"
  },
  "language_info": {
   "codemirror_mode": {
    "name": "ipython",
    "version": 3
   },
   "file_extension": ".py",
   "mimetype": "text/x-python",
   "name": "python",
   "nbconvert_exporter": "python",
   "pygments_lexer": "ipython3",
   "version": "3.9.12"
  }
 },
 "nbformat": 4,
 "nbformat_minor": 5
}
